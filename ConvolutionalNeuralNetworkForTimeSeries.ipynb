{
 "cells": [
  {
   "cell_type": "code",
   "execution_count": 1,
   "metadata": {},
   "outputs": [],
   "source": [
    "import pandas as pd\n",
    "import torch\n",
    "import torch.nn as nn\n",
    "import torch.nn.functional as F\n",
    "import torch.optim as optim\n",
    "\n",
    "from torch.utils.data import Dataset, DataLoader"
   ]
  },
  {
   "cell_type": "markdown",
   "metadata": {},
   "source": [
    "# Convolutional Neural Network for Time Series"
   ]
  },
  {
   "cell_type": "markdown",
   "metadata": {},
   "source": [
    "## Univariate CNN "
   ]
  },
  {
   "cell_type": "markdown",
   "metadata": {},
   "source": [
    "Univarate time series are datasets contains only one sinle series of observations with a temporal ordering. Model need to learn from past observations to predict next value in sequence."
   ]
  },
  {
   "cell_type": "markdown",
   "metadata": {},
   "source": [
    "### Dataset"
   ]
  },
  {
   "cell_type": "markdown",
   "metadata": {},
   "source": [
    "Monthly sunspot dataset describes a monthly count of number of observed sunspots for just over 230 years from 1749 to 1983. Dataset contains 2820 observations. \n",
    "\n",
    "You can download data from: https://datamarket.com/data/set/22ti/zuerich-monthly-sunspot-numbers-1749-1983#!ds=22ti&display=line"
   ]
  },
  {
   "cell_type": "code",
   "execution_count": 2,
   "metadata": {},
   "outputs": [
    {
     "data": {
      "text/html": [
       "<div>\n",
       "<style scoped>\n",
       "    .dataframe tbody tr th:only-of-type {\n",
       "        vertical-align: middle;\n",
       "    }\n",
       "\n",
       "    .dataframe tbody tr th {\n",
       "        vertical-align: top;\n",
       "    }\n",
       "\n",
       "    .dataframe thead th {\n",
       "        text-align: right;\n",
       "    }\n",
       "</style>\n",
       "<table border=\"1\" class=\"dataframe\">\n",
       "  <thead>\n",
       "    <tr style=\"text-align: right;\">\n",
       "      <th></th>\n",
       "      <th>month</th>\n",
       "      <th>observations</th>\n",
       "    </tr>\n",
       "  </thead>\n",
       "  <tbody>\n",
       "    <tr>\n",
       "      <th>0</th>\n",
       "      <td>1749-01</td>\n",
       "      <td>58.0</td>\n",
       "    </tr>\n",
       "    <tr>\n",
       "      <th>1</th>\n",
       "      <td>1749-02</td>\n",
       "      <td>62.6</td>\n",
       "    </tr>\n",
       "    <tr>\n",
       "      <th>2</th>\n",
       "      <td>1749-03</td>\n",
       "      <td>70.0</td>\n",
       "    </tr>\n",
       "    <tr>\n",
       "      <th>3</th>\n",
       "      <td>1749-04</td>\n",
       "      <td>55.7</td>\n",
       "    </tr>\n",
       "    <tr>\n",
       "      <th>4</th>\n",
       "      <td>1749-05</td>\n",
       "      <td>85.0</td>\n",
       "    </tr>\n",
       "  </tbody>\n",
       "</table>\n",
       "</div>"
      ],
      "text/plain": [
       "     month  observations\n",
       "0  1749-01          58.0\n",
       "1  1749-02          62.6\n",
       "2  1749-03          70.0\n",
       "3  1749-04          55.7\n",
       "4  1749-05          85.0"
      ]
     },
     "execution_count": 2,
     "metadata": {},
     "output_type": "execute_result"
    }
   ],
   "source": [
    "uni_df = pd.read_csv('datasets/zuerich-monthly-sunspot-numbers-.csv', \n",
    "                     sep=';', names=['month', 'observations'], header=0)\n",
    "uni_df.dropna(inplace=True)\n",
    "uni_df.head(5)"
   ]
  },
  {
   "cell_type": "code",
   "execution_count": 3,
   "metadata": {},
   "outputs": [
    {
     "data": {
      "text/plain": [
       "(2820, 2)"
      ]
     },
     "execution_count": 3,
     "metadata": {},
     "output_type": "execute_result"
    }
   ],
   "source": [
    "uni_df.shape"
   ]
  },
  {
   "cell_type": "code",
   "execution_count": 4,
   "metadata": {},
   "outputs": [
    {
     "data": {
      "text/plain": [
       "month            object\n",
       "observations    float64\n",
       "dtype: object"
      ]
     },
     "execution_count": 4,
     "metadata": {},
     "output_type": "execute_result"
    }
   ],
   "source": [
    "uni_df.dtypes"
   ]
  },
  {
   "cell_type": "markdown",
   "metadata": {},
   "source": [
    "### Data preparation"
   ]
  },
  {
   "cell_type": "markdown",
   "metadata": {},
   "source": [
    "PyTorch provides tool for preparing data. It makes code more readable and reusable. "
   ]
  },
  {
   "cell_type": "code",
   "execution_count": 5,
   "metadata": {},
   "outputs": [],
   "source": [
    "class SunspotDataset(Dataset):\n",
    "    def __init__(self, csv_file, lag, transform=None):\n",
    "        df = pd.read_csv('datasets/zuerich-monthly-sunspot-numbers-.csv',  \n",
    "                          sep=';', names=['month', 'observations'], header=0)\n",
    "        self.len = df.shape[0]\n",
    "        self.lag = lag\n",
    "        self.X, self.y = self.prepare(df.observations.values)\n",
    "        \n",
    "    def prepare(self, sequence):\n",
    "        X, y = list(), list()\n",
    "        for i in range(self.len):\n",
    "            end_ix = i + self.lag\n",
    "            if end_ix > self.len - 1:\n",
    "                break\n",
    "            seq_x, seq_y = sequence[i:end_ix], sequence[end_ix]\n",
    "            X.append(seq_x)\n",
    "            y.append(seq_y)\n",
    "        \n",
    "        return (X, y)\n",
    "        \n",
    "    def __len__(self):\n",
    "        return int(self.len / self.lag)\n",
    "    \n",
    "    def __getitem__(self, idx):\n",
    "        x = self.X[idx]\n",
    "        y = self.y[idx]\n",
    "        return (x, y)\n",
    "        "
   ]
  },
  {
   "cell_type": "markdown",
   "metadata": {},
   "source": [
    " SunspotDataset class can be instantiated and tested."
   ]
  },
  {
   "cell_type": "code",
   "execution_count": 6,
   "metadata": {},
   "outputs": [
    {
     "data": {
      "text/plain": [
       "564"
      ]
     },
     "execution_count": 6,
     "metadata": {},
     "output_type": "execute_result"
    }
   ],
   "source": [
    "csv_file = 'datasets/zuerich-monthly-sunspot-numbers-.csv'\n",
    "sunspot_dataset = SunspotDataset(csv_file, 5, 2820)\n",
    "len(sunspot_dataset)"
   ]
  },
  {
   "cell_type": "code",
   "execution_count": 7,
   "metadata": {},
   "outputs": [
    {
     "name": "stdout",
     "output_type": "stream",
     "text": [
      "(array([58. , 62.6, 70. , 55.7, 85. ]), 83.5) <class 'numpy.ndarray'>\n",
      "(array([62.6, 70. , 55.7, 85. , 83.5]), 94.8) <class 'numpy.ndarray'>\n",
      "(array([70. , 55.7, 85. , 83.5, 94.8]), 66.3) <class 'numpy.ndarray'>\n",
      "(array([55.7, 85. , 83.5, 94.8, 66.3]), 75.9) <class 'numpy.ndarray'>\n"
     ]
    }
   ],
   "source": [
    "for i in range(len(sunspot_dataset)):\n",
    "    sample = sunspot_dataset[i]\n",
    "    print(sample, type(sample[0]))\n",
    "    if i == 3:\n",
    "        break"
   ]
  },
  {
   "cell_type": "markdown",
   "metadata": {},
   "source": [
    "### One-Dimensional Convolutional Neural Network Model (1D CNN)"
   ]
  },
  {
   "cell_type": "markdown",
   "metadata": {},
   "source": [
    "1D CNN is a model that has convolutional hidden layer that calculates over one dimensional sequence. "
   ]
  },
  {
   "cell_type": "markdown",
   "metadata": {},
   "source": [
    "Select device."
   ]
  },
  {
   "cell_type": "code",
   "execution_count": 8,
   "metadata": {},
   "outputs": [],
   "source": [
    "device = 'cuda:0'"
   ]
  },
  {
   "cell_type": "code",
   "execution_count": 9,
   "metadata": {},
   "outputs": [
    {
     "data": {
      "text/plain": [
       "OneDCNN(\n",
       "  (conv1): Conv1d(5, 4, kernel_size=(1,), stride=(1,), padding=(1,))\n",
       "  (pool1): MaxPool1d(kernel_size=2, stride=2, padding=0, dilation=1, ceil_mode=False)\n",
       "  (fc1): Linear(in_features=16, out_features=50, bias=True)\n",
       "  (fc2): Linear(in_features=50, out_features=4, bias=True)\n",
       ")"
      ]
     },
     "execution_count": 9,
     "metadata": {},
     "output_type": "execute_result"
    }
   ],
   "source": [
    "class OneDCNN(nn.Module):\n",
    "    def __init__(self, D_in):\n",
    "        super(OneDCNN, self).__init__()\n",
    "        self.conv1 = nn.Conv1d(D_in, 4, 1, stride=1, padding=1)\n",
    "        self.pool1 = nn.MaxPool1d(kernel_size=2)\n",
    "        self.fc1 = nn.Linear(16, 50)\n",
    "        self.fc2 = nn.Linear(50, 4)\n",
    "    \n",
    "    def forward(self, x):\n",
    "        x = self.conv1(x)\n",
    "        x = self.pool1(x)\n",
    "        x = F.relu(x)\n",
    "        x = x.view(-1)\n",
    "        x = F.relu(self.fc1(x))\n",
    "        x = self.fc2(x)\n",
    "        return x\n",
    "        \n",
    "one_dcnn = OneDCNN(5)\n",
    "one_dcnn"
   ]
  },
  {
   "cell_type": "markdown",
   "metadata": {},
   "source": [
    "Define a loss function and optimizer"
   ]
  },
  {
   "cell_type": "code",
   "execution_count": 12,
   "metadata": {},
   "outputs": [],
   "source": [
    "criterion = nn.MSELoss()\n",
    "optimizer = optim.Adam(one_dcnn.parameters(), lr=0.0001)"
   ]
  },
  {
   "cell_type": "markdown",
   "metadata": {},
   "source": [
    "Prepare dataloader"
   ]
  },
  {
   "cell_type": "code",
   "execution_count": 13,
   "metadata": {},
   "outputs": [],
   "source": [
    "sunspot_dataloader = DataLoader(sunspot_dataset, batch_size=4, shuffle=False, num_workers=8)"
   ]
  },
  {
   "cell_type": "markdown",
   "metadata": {},
   "source": [
    "Train network"
   ]
  },
  {
   "cell_type": "code",
   "execution_count": 16,
   "metadata": {},
   "outputs": [
    {
     "name": "stdout",
     "output_type": "stream",
     "text": [
      "[1,   100] loss: 106.268\n",
      "[2,   100] loss: 106.185\n",
      "[3,   100] loss: 106.141\n",
      "[4,   100] loss: 106.101\n",
      "[5,   100] loss: 106.037\n",
      "[6,   100] loss: 105.998\n",
      "[7,   100] loss: 105.955\n",
      "[8,   100] loss: 105.884\n",
      "[9,   100] loss: 105.862\n",
      "[10,   100] loss: 105.823\n"
     ]
    }
   ],
   "source": [
    "n_epoch = 10\n",
    "for epoch in range(n_epoch):\n",
    "    running_loss = 0.0\n",
    "    for i, data in enumerate(sunspot_dataloader):\n",
    "        inputs, labels = data\n",
    "        inputs = inputs.view(4, 5, 1).float()\n",
    "        labels = labels.float()\n",
    "        optimizer.zero_grad()\n",
    "        outputs = one_dcnn(inputs)\n",
    "        loss = criterion(outputs, labels)\n",
    "        loss.backward()\n",
    "        optimizer.step()\n",
    "        \n",
    "        running_loss += loss.item()\n",
    "        \n",
    "        if i % 100 == 99:\n",
    "            print('[%d, %5d] loss: %.3f' %\n",
    "                  (epoch + 1, i + 1, running_loss / 99))\n",
    "            running_loss = 0.0"
   ]
  },
  {
   "cell_type": "code",
   "execution_count": null,
   "metadata": {},
   "outputs": [],
   "source": []
  }
 ],
 "metadata": {
  "kernelspec": {
   "display_name": "Python 3",
   "language": "python",
   "name": "python3"
  },
  "language_info": {
   "codemirror_mode": {
    "name": "ipython",
    "version": 3
   },
   "file_extension": ".py",
   "mimetype": "text/x-python",
   "name": "python",
   "nbconvert_exporter": "python",
   "pygments_lexer": "ipython3",
   "version": "3.6.6"
  }
 },
 "nbformat": 4,
 "nbformat_minor": 2
}
